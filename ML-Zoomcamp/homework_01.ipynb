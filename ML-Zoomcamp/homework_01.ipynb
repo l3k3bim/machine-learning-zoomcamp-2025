{
 "cells": [
  {
   "cell_type": "code",
   "execution_count": 1,
   "id": "81370938-3cbf-43d9-8efb-2aa6d514bc33",
   "metadata": {},
   "outputs": [],
   "source": [
    "import pandas as pd"
   ]
  },
  {
   "cell_type": "code",
   "execution_count": 2,
   "id": "8d5bc9a5-71d5-4b31-8a49-f8df0ea036ae",
   "metadata": {},
   "outputs": [],
   "source": [
    "df = pd.read_csv('https://raw.githubusercontent.com/alexeygrigorev/datasets/master/car_fuel_efficiency.csv')"
   ]
  },
  {
   "cell_type": "code",
   "execution_count": 3,
   "id": "d40f89a8-3311-4413-9796-9ce3b14f928d",
   "metadata": {},
   "outputs": [
    {
     "data": {
      "text/html": [
       "<div>\n",
       "<style scoped>\n",
       "    .dataframe tbody tr th:only-of-type {\n",
       "        vertical-align: middle;\n",
       "    }\n",
       "\n",
       "    .dataframe tbody tr th {\n",
       "        vertical-align: top;\n",
       "    }\n",
       "\n",
       "    .dataframe thead th {\n",
       "        text-align: right;\n",
       "    }\n",
       "</style>\n",
       "<table border=\"1\" class=\"dataframe\">\n",
       "  <thead>\n",
       "    <tr style=\"text-align: right;\">\n",
       "      <th></th>\n",
       "      <th>engine_displacement</th>\n",
       "      <th>num_cylinders</th>\n",
       "      <th>horsepower</th>\n",
       "      <th>vehicle_weight</th>\n",
       "      <th>acceleration</th>\n",
       "      <th>model_year</th>\n",
       "      <th>origin</th>\n",
       "      <th>fuel_type</th>\n",
       "      <th>drivetrain</th>\n",
       "      <th>num_doors</th>\n",
       "      <th>fuel_efficiency_mpg</th>\n",
       "    </tr>\n",
       "  </thead>\n",
       "  <tbody>\n",
       "    <tr>\n",
       "      <th>0</th>\n",
       "      <td>170</td>\n",
       "      <td>3.0</td>\n",
       "      <td>159.0</td>\n",
       "      <td>3413.433759</td>\n",
       "      <td>17.7</td>\n",
       "      <td>2003</td>\n",
       "      <td>Europe</td>\n",
       "      <td>Gasoline</td>\n",
       "      <td>All-wheel drive</td>\n",
       "      <td>0.0</td>\n",
       "      <td>13.231729</td>\n",
       "    </tr>\n",
       "    <tr>\n",
       "      <th>1</th>\n",
       "      <td>130</td>\n",
       "      <td>5.0</td>\n",
       "      <td>97.0</td>\n",
       "      <td>3149.664934</td>\n",
       "      <td>17.8</td>\n",
       "      <td>2007</td>\n",
       "      <td>USA</td>\n",
       "      <td>Gasoline</td>\n",
       "      <td>Front-wheel drive</td>\n",
       "      <td>0.0</td>\n",
       "      <td>13.688217</td>\n",
       "    </tr>\n",
       "    <tr>\n",
       "      <th>2</th>\n",
       "      <td>170</td>\n",
       "      <td>NaN</td>\n",
       "      <td>78.0</td>\n",
       "      <td>3079.038997</td>\n",
       "      <td>15.1</td>\n",
       "      <td>2018</td>\n",
       "      <td>Europe</td>\n",
       "      <td>Gasoline</td>\n",
       "      <td>Front-wheel drive</td>\n",
       "      <td>0.0</td>\n",
       "      <td>14.246341</td>\n",
       "    </tr>\n",
       "    <tr>\n",
       "      <th>3</th>\n",
       "      <td>220</td>\n",
       "      <td>4.0</td>\n",
       "      <td>NaN</td>\n",
       "      <td>2542.392402</td>\n",
       "      <td>20.2</td>\n",
       "      <td>2009</td>\n",
       "      <td>USA</td>\n",
       "      <td>Diesel</td>\n",
       "      <td>All-wheel drive</td>\n",
       "      <td>2.0</td>\n",
       "      <td>16.912736</td>\n",
       "    </tr>\n",
       "    <tr>\n",
       "      <th>4</th>\n",
       "      <td>210</td>\n",
       "      <td>1.0</td>\n",
       "      <td>140.0</td>\n",
       "      <td>3460.870990</td>\n",
       "      <td>14.4</td>\n",
       "      <td>2009</td>\n",
       "      <td>Europe</td>\n",
       "      <td>Gasoline</td>\n",
       "      <td>All-wheel drive</td>\n",
       "      <td>2.0</td>\n",
       "      <td>12.488369</td>\n",
       "    </tr>\n",
       "  </tbody>\n",
       "</table>\n",
       "</div>"
      ],
      "text/plain": [
       "   engine_displacement  num_cylinders  horsepower  vehicle_weight  \\\n",
       "0                  170            3.0       159.0     3413.433759   \n",
       "1                  130            5.0        97.0     3149.664934   \n",
       "2                  170            NaN        78.0     3079.038997   \n",
       "3                  220            4.0         NaN     2542.392402   \n",
       "4                  210            1.0       140.0     3460.870990   \n",
       "\n",
       "   acceleration  model_year  origin fuel_type         drivetrain  num_doors  \\\n",
       "0          17.7        2003  Europe  Gasoline    All-wheel drive        0.0   \n",
       "1          17.8        2007     USA  Gasoline  Front-wheel drive        0.0   \n",
       "2          15.1        2018  Europe  Gasoline  Front-wheel drive        0.0   \n",
       "3          20.2        2009     USA    Diesel    All-wheel drive        2.0   \n",
       "4          14.4        2009  Europe  Gasoline    All-wheel drive        2.0   \n",
       "\n",
       "   fuel_efficiency_mpg  \n",
       "0            13.231729  \n",
       "1            13.688217  \n",
       "2            14.246341  \n",
       "3            16.912736  \n",
       "4            12.488369  "
      ]
     },
     "execution_count": 3,
     "metadata": {},
     "output_type": "execute_result"
    }
   ],
   "source": [
    "df.head()"
   ]
  },
  {
   "cell_type": "markdown",
   "id": "742086a6-a00c-4bfb-873a-93d7e7c972a5",
   "metadata": {},
   "source": [
    "Q1. \n",
    "What's the version of Pandas that you installed?"
   ]
  },
  {
   "cell_type": "code",
   "execution_count": 4,
   "id": "4608826d-3269-4838-b4ba-f31774426dab",
   "metadata": {},
   "outputs": [
    {
     "data": {
      "text/plain": [
       "'2.3.1'"
      ]
     },
     "execution_count": 4,
     "metadata": {},
     "output_type": "execute_result"
    }
   ],
   "source": [
    "pd.__version__"
   ]
  },
  {
   "cell_type": "markdown",
   "id": "ac52ce7f-7656-4629-ae36-1e1b0df5f270",
   "metadata": {},
   "source": [
    "Q2\n",
    "How many records are in the dataset?"
   ]
  },
  {
   "cell_type": "code",
   "execution_count": 7,
   "id": "bac7019f-7e8a-42d9-b7c0-27489b45dd8f",
   "metadata": {},
   "outputs": [
    {
     "name": "stdout",
     "output_type": "stream",
     "text": [
      "Number of records are 9704\n"
     ]
    }
   ],
   "source": [
    "num_records = df.shape[0]\n",
    "print('Number of records are', num_records)"
   ]
  },
  {
   "cell_type": "markdown",
   "id": "63ff6acb-2348-413b-8996-39050b4b94ff",
   "metadata": {},
   "source": [
    "Q3\n",
    "How many fuel types are presented in the dataset?"
   ]
  },
  {
   "cell_type": "code",
   "execution_count": 6,
   "id": "b74f6eea-0f39-472e-a092-7ddb1d59023b",
   "metadata": {},
   "outputs": [
    {
     "name": "stdout",
     "output_type": "stream",
     "text": [
      "Number of fuel types are 2\n"
     ]
    }
   ],
   "source": [
    "unique_fueltypes = df['fuel_type'].nunique()\n",
    "print('Number of fuel types are', unique_fueltypes)"
   ]
  },
  {
   "cell_type": "markdown",
   "id": "e37c5e12-5f87-43cc-8b3f-a673b91945d2",
   "metadata": {},
   "source": [
    "Q4\n",
    "How many columns in the dataset have missing values?"
   ]
  },
  {
   "cell_type": "code",
   "execution_count": 8,
   "id": "ee85fcf0-6316-401d-aeb3-aa50119e9eef",
   "metadata": {},
   "outputs": [
    {
     "name": "stdout",
     "output_type": "stream",
     "text": [
      "The number of columns with missing values are 4\n"
     ]
    }
   ],
   "source": [
    "missing_values = df.isnull().any().sum()\n",
    "print('The number of columns with missing values are', missing_values)"
   ]
  },
  {
   "cell_type": "markdown",
   "id": "6d23f9d0-69b1-426a-b9e6-6998f3a38980",
   "metadata": {},
   "source": [
    "Q5\n",
    "What's the maximum fuel efficiency of cars from Asia"
   ]
  },
  {
   "cell_type": "code",
   "execution_count": 28,
   "id": "c68dcda3-0647-42e0-9814-4e7ac9386abf",
   "metadata": {},
   "outputs": [
    {
     "name": "stdout",
     "output_type": "stream",
     "text": [
      "The maximun fuel efficiency for cars made in Asia is 23.76\n"
     ]
    }
   ],
   "source": [
    "max_eff_asia = df[df['origin'] == 'Asia']['fuel_efficiency_mpg'].max().round(2)\n",
    "print('The maximun fuel efficiency for cars made in Asia is', max_eff_asia)"
   ]
  },
  {
   "cell_type": "markdown",
   "id": "082412c2-5b9c-4880-8d8e-c9f7cf4b7f4e",
   "metadata": {},
   "source": [
    "Q6 Median value of horsepower"
   ]
  },
  {
   "cell_type": "code",
   "execution_count": 31,
   "id": "11a5e837-88b4-4c79-8d7c-ff5823c24e52",
   "metadata": {},
   "outputs": [
    {
     "name": "stdout",
     "output_type": "stream",
     "text": [
      "1. The median value is 149.0\n",
      "2. The most frequest value is 152.0\n"
     ]
    }
   ],
   "source": [
    "median_value = df['horsepower'].median()\n",
    "print('1. The median value is', median_value)\n",
    "mode_value = df['horsepower'].mode()[0]\n",
    "print('2. The most frequest value is', mode_value)"
   ]
  },
  {
   "cell_type": "code",
   "execution_count": 32,
   "id": "4f10f433-6013-4fc1-8b4b-0ca393712271",
   "metadata": {},
   "outputs": [],
   "source": [
    "df['horsepower'] = df['horsepower'].fillna(df['horsepower'].mode()[0])"
   ]
  },
  {
   "cell_type": "code",
   "execution_count": 33,
   "id": "881ce539-f4e1-4f5b-8b56-015594096b39",
   "metadata": {},
   "outputs": [
    {
     "name": "stdout",
     "output_type": "stream",
     "text": [
      "4. The new median value is 149.0\n"
     ]
    }
   ],
   "source": [
    "new_median_value = df['horsepower'].median()\n",
    "print('4. The new median value is', median_value)"
   ]
  },
  {
   "cell_type": "markdown",
   "id": "e7e45c58-3704-42cc-8914-0bb20f2b5c6c",
   "metadata": {},
   "source": [
    "The median value did not change"
   ]
  },
  {
   "cell_type": "markdown",
   "id": "af60be31-4211-4284-9887-aef2ded16bdc",
   "metadata": {},
   "source": [
    "Q7 Sum of weights"
   ]
  },
  {
   "cell_type": "code",
   "execution_count": 43,
   "id": "9fc6bd80-0f0d-4850-86c2-d616d1c577bd",
   "metadata": {},
   "outputs": [],
   "source": [
    "set_car = df[df['origin'] == 'Asia'][['vehicle_weight', 'model_year']].head(7)"
   ]
  },
  {
   "cell_type": "code",
   "execution_count": 45,
   "id": "f05a84fc-d22e-4343-a9d9-922cf83e3a93",
   "metadata": {},
   "outputs": [
    {
     "name": "stdout",
     "output_type": "stream",
     "text": [
      "[[2714.21930965 2016.        ]\n",
      " [2783.86897424 2010.        ]\n",
      " [3582.68736772 2007.        ]\n",
      " [2231.8081416  2011.        ]\n",
      " [2659.43145076 2016.        ]\n",
      " [2844.22753389 2014.        ]\n",
      " [3761.99403819 2019.        ]]\n"
     ]
    }
   ],
   "source": [
    "X = set_car.values\n",
    "print(X)"
   ]
  },
  {
   "cell_type": "code",
   "execution_count": 55,
   "id": "bbe612f4-d0e5-4e26-988e-77871ada59f2",
   "metadata": {},
   "outputs": [
    {
     "name": "stdout",
     "output_type": "stream",
     "text": [
      "[[62248334.33150762 41431216.5073268 ]\n",
      " [41431216.5073268  28373339.        ]]\n"
     ]
    }
   ],
   "source": [
    "XTX_t = X.T #transposing X\n",
    "print(XTX)"
   ]
  },
  {
   "cell_type": "code",
   "execution_count": 49,
   "id": "4c077eb5-95e2-43e7-8b81-39dbf7058f37",
   "metadata": {},
   "outputs": [],
   "source": [
    "import numpy as np"
   ]
  },
  {
   "cell_type": "code",
   "execution_count": 57,
   "id": "e3ef0a18-3d01-4985-9a5d-7afabb9da47a",
   "metadata": {},
   "outputs": [],
   "source": [
    "XTX_sq = XTX_t @ X #squaring transpose"
   ]
  },
  {
   "cell_type": "code",
   "execution_count": 58,
   "id": "dbbcba50-31e5-4251-b6ae-b7f12b4e3c99",
   "metadata": {},
   "outputs": [
    {
     "name": "stdout",
     "output_type": "stream",
     "text": [
      "49647390896215.67\n"
     ]
    }
   ],
   "source": [
    "print(np.linalg.det(XTX_sq)) #checking if XTX Square is invetible"
   ]
  },
  {
   "cell_type": "code",
   "execution_count": 59,
   "id": "9241f6d7-5a33-43ae-9e2f-a8880749401a",
   "metadata": {},
   "outputs": [],
   "source": [
    "XTX_iv = np.linalg.inv(XTX_sq) #inverting XTX Square"
   ]
  },
  {
   "cell_type": "code",
   "execution_count": 54,
   "id": "ae5d2c88-f530-41ec-8b34-4f2e56ec97dc",
   "metadata": {},
   "outputs": [],
   "source": [
    "y = np.array([1100, 1300, 800, 900, 1000, 1100, 1200]) #creating a numpy array"
   ]
  },
  {
   "cell_type": "code",
   "execution_count": 61,
   "id": "4ac0b465-3e21-49f3-831e-52dfd2a56549",
   "metadata": {},
   "outputs": [],
   "source": [
    "#multiplying the inverse of XTX (XTX_iv) with transpose of X (XTX_t)\n",
    "XTX_ivx = XTX_iv @ XTX_t"
   ]
  },
  {
   "cell_type": "code",
   "execution_count": 62,
   "id": "6e87652d-a806-4bf5-a9e1-e57c301cda36",
   "metadata": {},
   "outputs": [],
   "source": [
    "#multiplying the result by y\n",
    "w = XTX_ivx @ y"
   ]
  },
  {
   "cell_type": "code",
   "execution_count": 66,
   "id": "9c287466-f736-4634-aedf-eef96f5d3efa",
   "metadata": {},
   "outputs": [
    {
     "name": "stdout",
     "output_type": "stream",
     "text": [
      "The sum of the element is 0.5187709081074016\n"
     ]
    }
   ],
   "source": [
    "w_sum = np.sum(w)\n",
    "print('The sum of the element is', w_sum)"
   ]
  },
  {
   "cell_type": "markdown",
   "id": "08920647-9d54-4afe-93ba-8383a9cee292",
   "metadata": {},
   "source": [
    "The end of the first lesson. "
   ]
  },
  {
   "cell_type": "code",
   "execution_count": null,
   "id": "6d8414aa-c890-45f8-9d7f-cff9133393eb",
   "metadata": {},
   "outputs": [],
   "source": []
  }
 ],
 "metadata": {
  "kernelspec": {
   "display_name": "Python 3 (ipykernel)",
   "language": "python",
   "name": "python3"
  },
  "language_info": {
   "codemirror_mode": {
    "name": "ipython",
    "version": 3
   },
   "file_extension": ".py",
   "mimetype": "text/x-python",
   "name": "python",
   "nbconvert_exporter": "python",
   "pygments_lexer": "ipython3",
   "version": "3.12.1"
  }
 },
 "nbformat": 4,
 "nbformat_minor": 5
}
